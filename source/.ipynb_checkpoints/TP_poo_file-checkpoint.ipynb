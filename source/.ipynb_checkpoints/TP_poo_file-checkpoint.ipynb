{
 "cells": [
  {
   "cell_type": "code",
   "execution_count": 16,
   "id": "a9f874fb",
   "metadata": {},
   "outputs": [],
   "source": [
    "class Maillon:\n",
    "    def __init__(self, valeur=None, suivant=None, precedent = None):\n",
    "        self.valeur = valeur\n",
    "        self.suivant = suivant\n",
    "        \n",
    "    def __repr__(self):\n",
    "        if self.suivant is None:\n",
    "            return str(self.valeur)\n",
    "        else:\n",
    "            return str(self.suivant) + \" < \" + str(self.valeur)"
   ]
  },
  {
   "cell_type": "code",
   "execution_count": 136,
   "id": "7a4082ed",
   "metadata": {},
   "outputs": [],
   "source": [
    "class File:\n",
    "    \n",
    "    def __init__(self):\n",
    "        self.maillon = None\n",
    "        \n",
    "    def est_vide(self):\n",
    "        return self.maillon == None\n",
    "        \n",
    "    def enfiler(self, element):\n",
    "        # on crée un nouveau maillon avec la valeur element : [element]->[]\n",
    "        nv_maillon = Maillon(element)\n",
    "        # on pointe le maillon sur la liste (attribut maillon) : [element]->[*]->[*]->... comme L->[*]->[*]->...\n",
    "        nv_maillon.suivant = self.maillon\n",
    "        # on pointe la liste sur le nouveau maillon : L->[element]->...\n",
    "        self.maillon = nv_maillon\n",
    "        \n",
    "    def defiler(self):\n",
    "        # on défile si la file n'est pas vide\n",
    "        if not self.est_vide():\n",
    "            # si la file n'a qu'un seul élément\n",
    "            if self.maillon.suivant == None:\n",
    "                v = self.maillon.valeur\n",
    "                self.maillon = None\n",
    "            else:\n",
    "                # la file a 2 éléments ou plus\n",
    "                # on crée un maillon qui pointe sur le premier maillon de la liste\n",
    "                maillon = self.maillon\n",
    "                # on avance jusqu'à 2 éléments de la fin de file (avant dernier et dernier)\n",
    "                while maillon.suivant.suivant != None:\n",
    "                    maillon = maillon.suivant\n",
    "                # on est à l'avant dernier élément de la file\n",
    "                # on récupère la valeur du dernier élément\n",
    "                v = maillon.suivant.valeur\n",
    "                # on supprime le dernier élément en remplaçcant le dernier maillon par None\n",
    "                maillon.suivant = None\n",
    "            return v\n",
    "    \n",
    "    def __repr__(self):\n",
    "        if self.maillon == None:\n",
    "            return \".\"\n",
    "        else:\n",
    "            return str(self.maillon)"
   ]
  },
  {
   "cell_type": "code",
   "execution_count": 154,
   "id": "c61e02c9",
   "metadata": {},
   "outputs": [],
   "source": [
    "F = File()\n",
    "F.enfiler('a')\n",
    "F.enfiler('e')\n",
    "F.enfiler('i')\n",
    "F.enfiler('o')\n",
    "F.enfiler('u')\n",
    "F.enfiler('y')"
   ]
  },
  {
   "cell_type": "code",
   "execution_count": 155,
   "id": "bc522b29",
   "metadata": {},
   "outputs": [
    {
     "name": "stdout",
     "output_type": "stream",
     "text": [
      "a < e < i < o < u < y\n"
     ]
    }
   ],
   "source": [
    "print(F)"
   ]
  },
  {
   "cell_type": "code",
   "execution_count": 151,
   "id": "c7dc575c",
   "metadata": {},
   "outputs": [],
   "source": [
    "F.defiler()"
   ]
  },
  {
   "cell_type": "code",
   "execution_count": 152,
   "id": "fe31c9d6",
   "metadata": {},
   "outputs": [],
   "source": [
    "def longueur(file):\n",
    "    l = 0\n",
    "    tmp = File()\n",
    "    while not file.est_vide():\n",
    "        l += 1\n",
    "        tmp.enfiler(file.defiler())\n",
    "    while not tmp.est_vide():\n",
    "        file.enfiler(tmp.defiler())\n",
    "    return l"
   ]
  },
  {
   "cell_type": "code",
   "execution_count": 156,
   "id": "6046ac1b",
   "metadata": {},
   "outputs": [
    {
     "data": {
      "text/plain": [
       "6"
      ]
     },
     "execution_count": 156,
     "metadata": {},
     "output_type": "execute_result"
    }
   ],
   "source": [
    "longueur(F)"
   ]
  },
  {
   "cell_type": "code",
   "execution_count": null,
   "id": "93b5be64",
   "metadata": {},
   "outputs": [],
   "source": []
  }
 ],
 "metadata": {
  "kernelspec": {
   "display_name": "Python 3",
   "language": "python",
   "name": "python3"
  },
  "language_info": {
   "codemirror_mode": {
    "name": "ipython",
    "version": 3
   },
   "file_extension": ".py",
   "mimetype": "text/x-python",
   "name": "python",
   "nbconvert_exporter": "python",
   "pygments_lexer": "ipython3",
   "version": "3.9.4"
  }
 },
 "nbformat": 4,
 "nbformat_minor": 5
}
