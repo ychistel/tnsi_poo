{
 "cells": [
  {
   "cell_type": "code",
   "execution_count": 36,
   "id": "a9f874fb",
   "metadata": {},
   "outputs": [],
   "source": [
    "class Maillon:\n",
    "    def __init__(self, valeur=None, suivant=None):\n",
    "        self.valeur = valeur\n",
    "        self.suivant = suivant\n",
    "        \n",
    "    def __repr__(self):\n",
    "        if self.suivant is None:\n",
    "            return \" [ \" + str(self.valeur)\n",
    "        else:\n",
    "            return str(self.suivant) + \" [ \" + str(self.valeur)"
   ]
  },
  {
   "cell_type": "code",
   "execution_count": 41,
   "id": "7a4082ed",
   "metadata": {},
   "outputs": [],
   "source": [
    "class Pile:\n",
    "    \n",
    "    def __init__(self):\n",
    "        self.maillon = None\n",
    "        \n",
    "    def est_vide(self):\n",
    "        return self.maillon == None\n",
    "        \n",
    "    def empiler(self, element):\n",
    "        # on crée un nouveau maillon avec la valeur element : [element]->[]\n",
    "        nv_maillon = Maillon(element)\n",
    "        # on pointe le maillon sur la liste (attribut maillon) : [element]->[*]->[*]->... comme L->[*]->[*]->...\n",
    "        nv_maillon.suivant = self.maillon\n",
    "        # on pointe la liste sur le nouveau maillon : L->[element]->...\n",
    "        self.maillon = nv_maillon\n",
    "        \n",
    "    def depiler(self):\n",
    "        if not self.est_vide():\n",
    "            sommet = self.maillon.valeur\n",
    "            self.maillon = self.maillon.suivant\n",
    "        return sommet\n",
    "    \n",
    "    def __repr__(self):\n",
    "        if self.maillon == None:\n",
    "            return \"[]\"\n",
    "        else:\n",
    "            return str(self.maillon)"
   ]
  },
  {
   "cell_type": "code",
   "execution_count": 53,
   "id": "c61e02c9",
   "metadata": {},
   "outputs": [],
   "source": [
    "P = Pile()\n",
    "P.empiler('a')\n",
    "P.empiler('e')\n",
    "P.empiler('i')\n",
    "P.empiler('o')\n",
    "P.empiler('u')\n",
    "P.empiler('y')"
   ]
  },
  {
   "cell_type": "code",
   "execution_count": 58,
   "id": "bc522b29",
   "metadata": {},
   "outputs": [
    {
     "name": "stdout",
     "output_type": "stream",
     "text": [
      " [ a [ e [ i [ o [ u\n"
     ]
    }
   ],
   "source": [
    "print(P)"
   ]
  },
  {
   "cell_type": "code",
   "execution_count": 55,
   "id": "c7dc575c",
   "metadata": {},
   "outputs": [
    {
     "data": {
      "text/plain": [
       "'y'"
      ]
     },
     "execution_count": 55,
     "metadata": {},
     "output_type": "execute_result"
    }
   ],
   "source": [
    "P.depiler()"
   ]
  },
  {
   "cell_type": "code",
   "execution_count": 56,
   "id": "fe31c9d6",
   "metadata": {},
   "outputs": [],
   "source": [
    "def hauteur(pile):\n",
    "    h = 0\n",
    "    tmp = Pile()\n",
    "    while not pile.est_vide():\n",
    "        h += 1\n",
    "        tmp.empiler(pile.depiler())\n",
    "    while not tmp.est_vide():\n",
    "        pile.empiler(tmp.depiler())\n",
    "    return h"
   ]
  },
  {
   "cell_type": "code",
   "execution_count": 57,
   "id": "d7051e16",
   "metadata": {},
   "outputs": [
    {
     "data": {
      "text/plain": [
       "5"
      ]
     },
     "execution_count": 57,
     "metadata": {},
     "output_type": "execute_result"
    }
   ],
   "source": [
    "hauteur(P)"
   ]
  },
  {
   "cell_type": "code",
   "execution_count": null,
   "id": "8df907ce",
   "metadata": {},
   "outputs": [],
   "source": []
  }
 ],
 "metadata": {
  "kernelspec": {
   "display_name": "Python 3",
   "language": "python",
   "name": "python3"
  },
  "language_info": {
   "codemirror_mode": {
    "name": "ipython",
    "version": 3
   },
   "file_extension": ".py",
   "mimetype": "text/x-python",
   "name": "python",
   "nbconvert_exporter": "python",
   "pygments_lexer": "ipython3",
   "version": "3.9.4"
  }
 },
 "nbformat": 4,
 "nbformat_minor": 5
}
