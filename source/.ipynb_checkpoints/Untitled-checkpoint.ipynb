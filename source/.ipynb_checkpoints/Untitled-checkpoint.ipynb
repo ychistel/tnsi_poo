{
 "cells": [
  {
   "cell_type": "code",
   "execution_count": 18,
   "id": "55a037f2",
   "metadata": {},
   "outputs": [],
   "source": [
    "class Voiture:\n",
    "\n",
    "    # attributs\n",
    "\n",
    "    consommation = 5\n",
    "    reservoir = 40\n",
    "    nb_places = 4\n",
    "    energie = 'essence'\n",
    "\n",
    "    # méthodes\n",
    "\n",
    "    def consommer(self, distance):\n",
    "        return self.consommation * distance / 100\n",
    "\n",
    "    def rouler(self, distance):\n",
    "        pass\n",
    "\n",
    "    def transporter(self,n):\n",
    "        pass"
   ]
  },
  {
   "cell_type": "code",
   "execution_count": 19,
   "id": "84c09d1e",
   "metadata": {},
   "outputs": [],
   "source": [
    "polo = Voiture()\n",
    "tesla = Voiture()"
   ]
  },
  {
   "cell_type": "code",
   "execution_count": 20,
   "id": "aea8f3b8",
   "metadata": {},
   "outputs": [
    {
     "name": "stdout",
     "output_type": "stream",
     "text": [
      "5 40 4 essence\n"
     ]
    }
   ],
   "source": [
    "print(polo.consommation, polo.reservoir, polo.nb_places, polo.energie)"
   ]
  },
  {
   "cell_type": "code",
   "execution_count": 21,
   "id": "e9ac0ba9",
   "metadata": {},
   "outputs": [
    {
     "name": "stdout",
     "output_type": "stream",
     "text": [
      "5 40 4 essence\n"
     ]
    }
   ],
   "source": [
    "print(tesla.consommation, tesla.reservoir, tesla.nb_places, tesla.energie)"
   ]
  },
  {
   "cell_type": "code",
   "execution_count": 22,
   "id": "2d5f02e4",
   "metadata": {},
   "outputs": [],
   "source": [
    "tesla.consommation = 20\n",
    "tesla.reservoir = 100\n",
    "tesla.energie = 'electrique'"
   ]
  },
  {
   "cell_type": "code",
   "execution_count": null,
   "id": "57d3a758",
   "metadata": {
    "collapsed": true
   },
   "outputs": [],
   "source": []
  }
 ],
 "metadata": {
  "kernelspec": {
   "display_name": "Python 3",
   "language": "python",
   "name": "python3"
  },
  "language_info": {
   "codemirror_mode": {
    "name": "ipython",
    "version": 3
   },
   "file_extension": ".py",
   "mimetype": "text/x-python",
   "name": "python",
   "nbconvert_exporter": "python",
   "pygments_lexer": "ipython3",
   "version": "3.9.4"
  }
 },
 "nbformat": 4,
 "nbformat_minor": 5
}
