{
 "cells": [
  {
   "cell_type": "code",
   "execution_count": 1,
   "id": "5634de6b",
   "metadata": {},
   "outputs": [],
   "source": [
    "class Pile:\n",
    "    \n",
    "    def __init__(self):\n",
    "        self.elements = []\n",
    "        \n",
    "    def empiler(self, valeur):\n",
    "        self.elements.append(valeur)\n",
    "        \n",
    "    def depiler(self):\n",
    "        sommet = self.elements.pop()\n",
    "        return sommet\n",
    "    \n",
    "    def est_vide(self):\n",
    "        return self.elements == []"
   ]
  },
  {
   "cell_type": "code",
   "execution_count": 2,
   "id": "08a9d37b",
   "metadata": {},
   "outputs": [],
   "source": [
    "P=Pile()"
   ]
  },
  {
   "cell_type": "code",
   "execution_count": 3,
   "id": "60fab11c",
   "metadata": {},
   "outputs": [
    {
     "data": {
      "text/plain": [
       "True"
      ]
     },
     "execution_count": 3,
     "metadata": {},
     "output_type": "execute_result"
    }
   ],
   "source": [
    "P.est_vide()"
   ]
  },
  {
   "cell_type": "code",
   "execution_count": 4,
   "id": "44d7f4f0",
   "metadata": {},
   "outputs": [],
   "source": [
    "P.empiler(3)"
   ]
  },
  {
   "cell_type": "code",
   "execution_count": 5,
   "id": "d158a846",
   "metadata": {},
   "outputs": [
    {
     "name": "stdout",
     "output_type": "stream",
     "text": [
      "[3]\n"
     ]
    }
   ],
   "source": [
    "print(P.elements)"
   ]
  },
  {
   "cell_type": "code",
   "execution_count": 7,
   "id": "1055a095",
   "metadata": {},
   "outputs": [
    {
     "data": {
      "text/plain": [
       "1"
      ]
     },
     "execution_count": 7,
     "metadata": {},
     "output_type": "execute_result"
    }
   ],
   "source": [
    "len(P.elements)"
   ]
  },
  {
   "cell_type": "code",
   "execution_count": null,
   "id": "86a9497a",
   "metadata": {},
   "outputs": [],
   "source": []
  }
 ],
 "metadata": {
  "kernelspec": {
   "display_name": "Python 3",
   "language": "python",
   "name": "python3"
  },
  "language_info": {
   "codemirror_mode": {
    "name": "ipython",
    "version": 3
   },
   "file_extension": ".py",
   "mimetype": "text/x-python",
   "name": "python",
   "nbconvert_exporter": "python",
   "pygments_lexer": "ipython3",
   "version": "3.9.4"
  }
 },
 "nbformat": 4,
 "nbformat_minor": 5
}
