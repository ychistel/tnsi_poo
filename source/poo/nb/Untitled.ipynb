{
 "cells": [
  {
   "cell_type": "code",
   "execution_count": 18,
   "id": "b1860a1b",
   "metadata": {},
   "outputs": [],
   "source": [
    "class Voiture:\n",
    "\n",
    "    # attributs\n",
    "\n",
    "    consommation = 5\n",
    "    reservoir = 40\n",
    "    nb_places = 4\n",
    "    energie = 'essence'\n",
    "\n",
    "    # méthodes\n",
    "\n",
    "    def consommer(self, distance):\n",
    "        return self.consommation * distance / 100\n",
    "\n",
    "    def rouler(self, distance):\n",
    "        pass\n",
    "\n",
    "    def transporter(self,n):\n",
    "        pass"
   ]
  },
  {
   "cell_type": "code",
   "execution_count": 19,
   "id": "90ab5fc2",
   "metadata": {},
   "outputs": [],
   "source": [
    "polo = Voiture()\n",
    "tesla = Voiture()"
   ]
  },
  {
   "cell_type": "code",
   "execution_count": 20,
   "id": "e18de9a6",
   "metadata": {},
   "outputs": [
    {
     "name": "stdout",
     "output_type": "stream",
     "text": [
      "5 40 4 essence\n"
     ]
    }
   ],
   "source": [
    "print(polo.consommation, polo.reservoir, polo.nb_places, polo.energie)"
   ]
  },
  {
   "cell_type": "code",
   "execution_count": 21,
   "id": "42754c61",
   "metadata": {},
   "outputs": [
    {
     "name": "stdout",
     "output_type": "stream",
     "text": [
      "5 40 4 essence\n"
     ]
    }
   ],
   "source": [
    "print(tesla.consommation, tesla.reservoir, tesla.nb_places, tesla.energie)"
   ]
  },
  {
   "cell_type": "code",
   "execution_count": 22,
   "id": "7d445471",
   "metadata": {},
   "outputs": [],
   "source": [
    "tesla.consommation = 20\n",
    "tesla.reservoir = 100\n",
    "tesla.energie = 'electrique'"
   ]
  },
  {
   "cell_type": "code",
   "execution_count": 25,
   "id": "2122ad08",
   "metadata": {},
   "outputs": [
    {
     "data": {
      "text/plain": [
       "7.5"
      ]
     },
     "execution_count": 25,
     "metadata": {},
     "output_type": "execute_result"
    }
   ],
   "source": [
    "polo.consommer(150)"
   ]
  },
  {
   "cell_type": "code",
   "execution_count": 26,
   "id": "95dbc8d5",
   "metadata": {},
   "outputs": [
    {
     "data": {
      "text/plain": [
       "30.0"
      ]
     },
     "execution_count": 26,
     "metadata": {},
     "output_type": "execute_result"
    }
   ],
   "source": [
    "tesla.consommer(150)"
   ]
  },
  {
   "cell_type": "code",
   "execution_count": null,
   "id": "d46cb4e6",
   "metadata": {},
   "outputs": [],
   "source": []
  }
 ],
 "metadata": {
  "kernelspec": {
   "display_name": "Python 3",
   "language": "python",
   "name": "python3"
  },
  "language_info": {
   "codemirror_mode": {
    "name": "ipython",
    "version": 3
   },
   "file_extension": ".py",
   "mimetype": "text/x-python",
   "name": "python",
   "nbconvert_exporter": "python",
   "pygments_lexer": "ipython3",
   "version": "3.9.4"
  }
 },
 "nbformat": 4,
 "nbformat_minor": 5
}
