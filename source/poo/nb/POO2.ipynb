{
 "cells": [
  {
   "cell_type": "markdown",
   "id": "734b559c",
   "metadata": {},
   "source": [
    "# Dictionnaire en objet\n",
    "\n",
    "## Structure de données : dictionnaire\n",
    "Un dictionnaire est une structure de données qui contient plusieurs valeurs associées à des clefs.\n",
    "\n",
    "\n",
    "### Exemple:\n",
    "Des fiches sur des personnalités du monde informatique (vu en classe de première) sont crées et ont pour valeurs un nom, un prénom, une nationalité et une invention (principale).\n",
    "Chaque fiche est un dictionnaire:\n",
    "- Les clefs du dictionnaire sont (évidemment): nom, prénom, nationalité et invention\n",
    "- Les valeurs du dictionnaires sont celles associées à chaque mot clef.\n",
    "On donne un exemple de fiche:\n",
    "\n",
    "```python\n",
    "fiche1={\"nom\":\"Von Rossum\", \"prénom\":\"Guido\", \"nationalité\":\"pays-bas\", \"invention\":\"langage python\"}\n",
    "```\n",
    "\n",
    "## Structure de données : objet\n",
    "Ces valeurs peuvent être rassemblées dans un objet. Pour définir un objet, on déclare des attributs semblables aux clefs du dictionnaire. Pour chaque attribut de l'objet, on associe une valeur.\n",
    "\n",
    "### Exemple:\n",
    "Les fiches précédentes sont représentées par l'objet fiche1 tel que:\n",
    "```python\n",
    "ficheobj1.nom=\"Von Rossum\"\n",
    "ficheobj1.prenom=\"Guido\"\n",
    "ficheobj1.nationalite=\"pays-bas\"\n",
    "ficheobj1.invention=\"langage python\"\n",
    "```\n",
    "\n",
    "#### Remarque :\n",
    "Une telle déclaration dans l'interpréteur python risque de lever une erreur car fiche1 n'est pas défini en tant qu'objet."
   ]
  },
  {
   "cell_type": "code",
   "execution_count": 4,
   "id": "0e928482",
   "metadata": {},
   "outputs": [
    {
     "name": "stdout",
     "output_type": "stream",
     "text": [
      "{'nom': 'Von Rossum', 'prénom': 'Guido', 'nationalité': 'pays-bas', 'invention': 'langage python'}\n"
     ]
    }
   ],
   "source": [
    "fiche1={\"nom\":\"Von Rossum\", \"prénom\":\"Guido\", \"nationalité\":\"pays-bas\", \"invention\":\"langage python\"}\n",
    "print(fiche1)"
   ]
  },
  {
   "cell_type": "code",
   "execution_count": 6,
   "id": "407402a4",
   "metadata": {},
   "outputs": [
    {
     "ename": "NameError",
     "evalue": "name 'ficheobj1' is not defined",
     "output_type": "error",
     "traceback": [
      "\u001b[1;31m---------------------------------------------------------------------------\u001b[0m",
      "\u001b[1;31mNameError\u001b[0m                                 Traceback (most recent call last)",
      "\u001b[1;32m<ipython-input-6-c0e823ca0562>\u001b[0m in \u001b[0;36m<module>\u001b[1;34m\u001b[0m\n\u001b[1;32m----> 1\u001b[1;33m \u001b[0mficheobj1\u001b[0m\u001b[1;33m.\u001b[0m\u001b[0mnom\u001b[0m\u001b[1;33m=\u001b[0m\u001b[1;34m\"Von Rossum\"\u001b[0m\u001b[1;33m\u001b[0m\u001b[1;33m\u001b[0m\u001b[0m\n\u001b[0m\u001b[0;32m      2\u001b[0m \u001b[0mficheobj1\u001b[0m\u001b[1;33m.\u001b[0m\u001b[0mprenom\u001b[0m\u001b[1;33m=\u001b[0m\u001b[1;34m\"Guido\"\u001b[0m\u001b[1;33m\u001b[0m\u001b[1;33m\u001b[0m\u001b[0m\n\u001b[0;32m      3\u001b[0m \u001b[0mficheobj1\u001b[0m\u001b[1;33m.\u001b[0m\u001b[0mnationalite\u001b[0m\u001b[1;33m=\u001b[0m\u001b[1;34m\"pays-bas\"\u001b[0m\u001b[1;33m\u001b[0m\u001b[1;33m\u001b[0m\u001b[0m\n\u001b[0;32m      4\u001b[0m \u001b[0mficheobj1\u001b[0m\u001b[1;33m.\u001b[0m\u001b[0minvention\u001b[0m\u001b[1;33m=\u001b[0m\u001b[1;34m\"langage python\"\u001b[0m\u001b[1;33m\u001b[0m\u001b[1;33m\u001b[0m\u001b[0m\n",
      "\u001b[1;31mNameError\u001b[0m: name 'ficheobj1' is not defined"
     ]
    }
   ],
   "source": [
    "ficheobj1.nom=\"Von Rossum\"\n",
    "ficheobj1.prenom=\"Guido\"\n",
    "ficheobj1.nationalite=\"pays-bas\"\n",
    "ficheobj1.invention=\"langage python\""
   ]
  },
  {
   "cell_type": "markdown",
   "id": "dd1cbbcd",
   "metadata": {},
   "source": [
    "## Programmation objet\n",
    "\n",
    "Un objet est bien davantage qu'une structure de données. C'est un paradigme de programmation, ce qui signifie une manière de programmer différente de la programmation impérative utilisée en classe de première. La programmation objet est utilisée dans différents langages: java, javascript, C, ... \n",
    "\n",
    "Quelles sont les principales différences avec la programmation impérative?\n",
    "\n",
    "1. Un objet regroupe ses valeurs sous forme d'attributs. Ils ne sont pas limités en nombre et peuvent être de différents types, y compris un autre objet.\n",
    "2. Les fonctions que l'on applique à des variables en programmation impérative peuvent s'appliquer à différentes variables, dans différents contextes, ce qui peut générer des erreurs. En programmation objet, des fonctions peuvent être utilisées uniquement par un objet. Cette fonction ne sera pas utilisable en dehors de cet objet. Cette fonction est une méthode et la syntaxe d'appel en est modifiée en étant placée après le nom de l'objet séparé par un point.\n",
    "3. Enfin, un objet peut avoir plusieurs représentantS. L'objet est un modèle (moule) qui est défini de façon générale et qui est ensuite appelé autant de fois que nécessaire. Tous les représentants d'objets sont distincts (identifiant unique, place mémoire réservée). Tous ces représentant sont appelés des instances d'objet.\n",
    "\n",
    "La création d'un objet en python se fait avec le mot `class` suivi du nom de l'objet. Chaque représentant (instance) aura un nom d'objet différent !\n",
    "Dans la classe de l'objet, on définit les attributs et les méthodes de l'objet.\n",
    "\n",
    "Pour créer un objet, il suffit d'appeler la classe d'objet : c'est une instanciation. La création de chaque objet se fait avec un identifiant différent. Pour que ce soit possible, la classe utilise le mot clef réservé `self` qui est remplacé par l'identifiant de chaque objet quand on manipule l'objet.\n",
    "\n",
    "### Les attributs d'un objet\n",
    "\n",
    "Les attributs d'un objet en Python peut se faire de différentes manières mais une est à privilégier pour éviter les erreurs. On utilise une fonction spéciale `__init__` qui est appelée à la création de l'objet et définit les attributs de l'objet. D'une façon générale, on a la strucutre suivante:\n",
    "\n",
    "```python\n",
    "class objet:\n",
    "    \n",
    "    def __init__(self):\n",
    "        self.attribut1 = valeur1\n",
    "        self.attribut2 = valeur2\n",
    "        # etc\n",
    "```"
   ]
  },
  {
   "cell_type": "code",
   "execution_count": 23,
   "id": "ed90741d",
   "metadata": {},
   "outputs": [
    {
     "name": "stdout",
     "output_type": "stream",
     "text": [
      "Von Rossum Guido pays-bas langage python\n"
     ]
    }
   ],
   "source": [
    "class fiche:\n",
    "    def __init__(self):\n",
    "        self.nom=''\n",
    "        self.prenom=''\n",
    "        self.nationalite=''\n",
    "        self.invention=''\n",
    "\n",
    "# On crée un objet fiche\n",
    "f1=fiche()\n",
    "# On modifie les valeurs des attributs vides par défaut\n",
    "f1.nom=\"Von Rossum\"\n",
    "f1.prenom=\"Guido\"\n",
    "f1.nationalite=\"pays-bas\"\n",
    "f1.invention=\"langage python\"\n",
    "\n",
    "print(f1.nom,f1.prenom,f1.nationalite,f1.invention)"
   ]
  },
  {
   "cell_type": "markdown",
   "id": "c8f1fc81",
   "metadata": {},
   "source": [
    "### Les méthodes d'un objet\n",
    "\n",
    "Les méthodes sont des fonctions définies dans la classe de l'objet. Chaque fonction possède le paramètre **self** qui fait réfrence à l'objet manipulé. D'autres paramètres peuvent êtres ajoutés aux fonctions."
   ]
  }
 ],
 "metadata": {
  "kernelspec": {
   "display_name": "Python 3",
   "language": "python",
   "name": "python3"
  },
  "language_info": {
   "codemirror_mode": {
    "name": "ipython",
    "version": 3
   },
   "file_extension": ".py",
   "mimetype": "text/x-python",
   "name": "python",
   "nbconvert_exporter": "python",
   "pygments_lexer": "ipython3",
   "version": "3.9.4"
  }
 },
 "nbformat": 4,
 "nbformat_minor": 5
}
