{
 "cells": [
  {
   "cell_type": "markdown",
   "metadata": {},
   "source": [
    "### Exercice 3\n",
    "\n",
    "Objet Fraction"
   ]
  },
  {
   "cell_type": "code",
   "execution_count": 3,
   "metadata": {},
   "outputs": [],
   "source": [
    "class Fraction:\n",
    "    def __init__(self,num,den):\n",
    "        assert den>0,\"le dénominateur est négatif\"\n",
    "        assert den!=0,\"le dénominateur est nul\"\n",
    "        self.num=num\n",
    "        self.den=den\n",
    " \n",
    "    def __eq__(self,frac):\n",
    "        if self.num/frac.num==self.den/frac.den:\n",
    "            return True\n",
    "        else:\n",
    "            return False\n",
    "\n",
    "    def __lt__(self,frac):\n",
    "        if self.num*frac.den<frac.num*self.den:\n",
    "            return True\n",
    "        else:\n",
    "            return False\n",
    "\n",
    "    def __add__(self,frac):\n",
    "        n=self.num*frac.den+frac.num*self.den\n",
    "        d=self.den*frac.den\n",
    "        return Fraction(n,d)\n",
    "    \n",
    "    def __sub__(self,frac):\n",
    "        n=self.num*frac.den-frac.num*self.den\n",
    "        d=self.den*frac.den\n",
    "        return Fraction(n,d)\n",
    "    \n",
    "    def __mul__(self,frac):\n",
    "        n=self.num*frac.num\n",
    "        d=frac.den*self.den\n",
    "        res=Fraction(n,d)\n",
    "        res.reduire()\n",
    "        return res\n",
    "\n",
    "    def __truediv__(self,frac):\n",
    "        n=self.num*frac.den\n",
    "        d=frac.num*self.den\n",
    "        return Fraction(n,d)\n",
    "    \n",
    "    def reduire(self):\n",
    "        p=pgcd(self.num,self.den)\n",
    "        self.num=self.num//p\n",
    "        self.den=self.den//p\n",
    "    \n",
    "    def __str__(self):\n",
    "        if self.den==1:\n",
    "            return f'{str(self.num)}'\n",
    "        else:\n",
    "            return f'{str(self.num)}/{str(self.den)}'\n",
    "           \n",
    "def pgcd(a,b):\n",
    "    if a<b:\n",
    "        a,b=b,a\n",
    "    if b==0:\n",
    "        return a\n",
    "    else:\n",
    "        return pgcd(b,a%b)"
   ]
  },
  {
   "cell_type": "code",
   "execution_count": 4,
   "metadata": {},
   "outputs": [],
   "source": [
    "a=Fraction(2,6)\n",
    "b=Fraction(4,3)\n",
    "f=Fraction(7,1)"
   ]
  },
  {
   "cell_type": "code",
   "execution_count": 5,
   "metadata": {},
   "outputs": [
    {
     "name": "stdout",
     "output_type": "stream",
     "text": [
      "1/3\n"
     ]
    }
   ],
   "source": [
    "a.reduire()\n",
    "print(a)"
   ]
  },
  {
   "cell_type": "code",
   "execution_count": 6,
   "metadata": {},
   "outputs": [
    {
     "name": "stdout",
     "output_type": "stream",
     "text": [
      "15/9\n"
     ]
    }
   ],
   "source": [
    "c=a+b\n",
    "print(c)"
   ]
  },
  {
   "cell_type": "code",
   "execution_count": 7,
   "metadata": {},
   "outputs": [
    {
     "name": "stdout",
     "output_type": "stream",
     "text": [
      "4/9\n"
     ]
    }
   ],
   "source": [
    "d=a*b\n",
    "print(d)"
   ]
  },
  {
   "cell_type": "code",
   "execution_count": 8,
   "metadata": {},
   "outputs": [
    {
     "data": {
      "text/plain": [
       "'-9/9'"
      ]
     },
     "execution_count": 8,
     "metadata": {},
     "output_type": "execute_result"
    }
   ],
   "source": [
    "str(a-b)"
   ]
  },
  {
   "cell_type": "code",
   "execution_count": 9,
   "metadata": {},
   "outputs": [
    {
     "name": "stdout",
     "output_type": "stream",
     "text": [
      "-9/9\n"
     ]
    }
   ],
   "source": [
    "print(a-b)"
   ]
  },
  {
   "cell_type": "code",
   "execution_count": 10,
   "metadata": {},
   "outputs": [
    {
     "name": "stdout",
     "output_type": "stream",
     "text": [
      "7\n"
     ]
    }
   ],
   "source": [
    "print(f)"
   ]
  },
  {
   "cell_type": "code",
   "execution_count": 11,
   "metadata": {},
   "outputs": [
    {
     "name": "stdout",
     "output_type": "stream",
     "text": [
      "3/12\n"
     ]
    }
   ],
   "source": [
    "print(a/b)"
   ]
  },
  {
   "cell_type": "code",
   "execution_count": 12,
   "metadata": {},
   "outputs": [
    {
     "data": {
      "text/plain": [
       "True"
      ]
     },
     "execution_count": 12,
     "metadata": {},
     "output_type": "execute_result"
    }
   ],
   "source": [
    "a<b"
   ]
  },
  {
   "cell_type": "markdown",
   "metadata": {},
   "source": [
    "### Exercice 4\n",
    "\n",
    "Objet Date (difficile)"
   ]
  },
  {
   "cell_type": "code",
   "execution_count": 13,
   "metadata": {},
   "outputs": [],
   "source": [
    "class Date:\n",
    "    mois=['janvier','février','mars','avril','mai','juin','juillet','août','septembre','octobre','novembre','décembre']\n",
    "    \n",
    "    def __init__(self,j=1,m=1,a=2000): \n",
    "        self.jour=j\n",
    "        self.mois=m\n",
    "        self.annee=a\n",
    "        \n",
    "    def __str__(self):\n",
    "        return f'{self.jour} {Date.mois[self.mois-1]} {self.annee}'\n",
    "        #return str(self.jour)+\" \"+self.mensuel+\" \"+str(self.annee)\n",
    "        \n",
    "    def __lt__(self,date):\n",
    "        if self.annee < date.annee:\n",
    "            return True\n",
    "        elif self.mois < date.mois:\n",
    "            return True\n",
    "        elif self.jour < date.jour:\n",
    "            return True\n",
    "        else:\n",
    "            return False\n"
   ]
  },
  {
   "cell_type": "code",
   "execution_count": 14,
   "metadata": {},
   "outputs": [],
   "source": [
    "d=Date()\n",
    "d1=Date(27,3,1968)\n",
    "d2=Date(27,3,1970)"
   ]
  },
  {
   "cell_type": "code",
   "execution_count": 15,
   "metadata": {},
   "outputs": [
    {
     "name": "stdout",
     "output_type": "stream",
     "text": [
      "1 janvier 2000 27 mars 1968 27 mars 1970\n"
     ]
    }
   ],
   "source": [
    "print(d,d1,d2)"
   ]
  },
  {
   "cell_type": "code",
   "execution_count": 16,
   "metadata": {},
   "outputs": [
    {
     "data": {
      "text/plain": [
       "True"
      ]
     },
     "execution_count": 16,
     "metadata": {},
     "output_type": "execute_result"
    }
   ],
   "source": [
    "d<d1 < d2"
   ]
  },
  {
   "cell_type": "code",
   "execution_count": 17,
   "metadata": {},
   "outputs": [],
   "source": [
    "class Date:    \n",
    "    mois=['janvier','février','mars','avril','mai','juin','juillet',\\\n",
    "          'août','septembre','octobre','novembre','décembre']\n",
    "    \n",
    "    def __init__(self,j=1,m=1,a=2000):\n",
    "        assert 0<j<=31,\"la valeur jour saisie n'est pas possible\"\n",
    "        assert 0<m<=12,\"la valeur mois saisie n'est pas possible\"\n",
    "        self.__jour=j\n",
    "        self.__mois=m\n",
    "        self.__annee=a\n",
    "    \n",
    "    \"\"\"Accesseur get_jour et mutateur set_jour pour l'attribut caché jour:\n",
    "    Si d est un objet Date, alors:\n",
    "    d.get_jour renvoie la valeur de l'attribut caché jour;\n",
    "    d.set_jour=k affecte à l'attribut caché jour la valeur k \n",
    "    \"\"\"\n",
    "    @property\n",
    "    def get_jour(self):\n",
    "        return self.__jour\n",
    "    \n",
    "    @get_jour.setter\n",
    "    def set_jour(self,j):\n",
    "        self.__jour=j\n",
    "\n",
    "    \"\"\"Accesseur get_mois et mutateur set_mois pour l'attribut caché mois:\n",
    "    Si d est un objet Date, alors:\n",
    "    d.get_mois renvoie la valeur de l'attribut caché mois;\n",
    "    d.set_mois=k affecte à l'attribut caché mois la valeur k \n",
    "    \"\"\"\n",
    "    @property\n",
    "    def get_mois(self):\n",
    "        return self.__mois\n",
    "            \n",
    "    @get_mois.setter\n",
    "    def set_mois(self,m):\n",
    "        self.__mois=m\n",
    "\n",
    "    \"\"\"Accesseur get_annee et mutateur set_annee pour l'attribut caché annee:\n",
    "    Si d est un objet Date, alors:\n",
    "    d.get_annee renvoie la valeur de l'attribut caché annee;\n",
    "    d.set_annee=k affecte à l'attribut caché annee la valeur k \n",
    "    \"\"\"\n",
    "    @property\n",
    "    def get_annee(self):\n",
    "        return self.__annee\n",
    "        \n",
    "    @get_annee.setter\n",
    "    def set_annee(self,a):\n",
    "        self.__annee=a\n",
    "        \n",
    "    def __str__(self):\n",
    "        return f'{self.__jour} {Date.mois[self.__mois-1]} {self.__annee}'\n",
    "        #return str(self.jour)+\" \"+self.mensuel+\" \"+str(self.annee)\n",
    "        \n",
    "    def __lt__(self,date):\n",
    "        if self.__annee < date.__annee:\n",
    "            return True\n",
    "        elif self.__mois < date.__mois:\n",
    "            return True\n",
    "        elif self.__jour < date.__jour:\n",
    "            return True\n",
    "        else:\n",
    "            return False\n"
   ]
  },
  {
   "cell_type": "code",
   "execution_count": 18,
   "metadata": {},
   "outputs": [
    {
     "name": "stdout",
     "output_type": "stream",
     "text": [
      "31 octobre 1995\n",
      "31\n",
      "10\n",
      "25 octobre 1995\n",
      "10\n"
     ]
    }
   ],
   "source": [
    "d=Date(31,10,1995)\n",
    "print(d)\n",
    "print(d.get_jour)\n",
    "print(d.get_mois)\n",
    "d.set_jour=25\n",
    "d.set_mois=10\n",
    "print(d)\n",
    "print(d.get_mois)"
   ]
  },
  {
   "cell_type": "code",
   "execution_count": 19,
   "metadata": {},
   "outputs": [
    {
     "name": "stdout",
     "output_type": "stream",
     "text": [
      "25\n"
     ]
    }
   ],
   "source": [
    "print(d.get_jour)"
   ]
  },
  {
   "cell_type": "code",
   "execution_count": 20,
   "metadata": {},
   "outputs": [
    {
     "name": "stdout",
     "output_type": "stream",
     "text": [
      "15\n"
     ]
    },
    {
     "data": {
      "text/plain": [
       "int"
      ]
     },
     "execution_count": 20,
     "metadata": {},
     "output_type": "execute_result"
    }
   ],
   "source": [
    "d.jour=15\n",
    "print(d.jour)\n",
    "type(d.jour)"
   ]
  },
  {
   "cell_type": "code",
   "execution_count": null,
   "metadata": {},
   "outputs": [],
   "source": []
  }
 ],
 "metadata": {
  "kernelspec": {
   "display_name": "Python 3",
   "language": "python",
   "name": "python3"
  },
  "language_info": {
   "codemirror_mode": {
    "name": "ipython",
    "version": 3
   },
   "file_extension": ".py",
   "mimetype": "text/x-python",
   "name": "python",
   "nbconvert_exporter": "python",
   "pygments_lexer": "ipython3",
   "version": "3.9.4"
  }
 },
 "nbformat": 4,
 "nbformat_minor": 2
}
